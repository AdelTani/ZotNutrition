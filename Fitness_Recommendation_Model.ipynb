{
  "nbformat": 4,
  "nbformat_minor": 0,
  "metadata": {
    "colab": {
      "provenance": []
    },
    "kernelspec": {
      "name": "python3",
      "display_name": "Python 3"
    },
    "language_info": {
      "name": "python"
    }
  },
  "cells": [
    {
      "cell_type": "code",
      "execution_count": 1,
      "metadata": {
        "id": "ANZ43MDJkctB"
      },
      "outputs": [],
      "source": [
        "import pandas as pd\n",
        "from sklearn.linear_model import LogisticRegression\n",
        "from sklearn.model_selection import train_test_split\n",
        "from sklearn.metrics import accuracy_score\n",
        "from sklearn.ensemble import RandomForestClassifier\n",
        "from sklearn.preprocessing import OneHotEncoder, StandardScaler\n",
        "from sklearn.compose import ColumnTransformer\n",
        "from sklearn.pipeline import Pipeline"
      ]
    },
    {
      "cell_type": "code",
      "source": [
        "# Read the data from the CSV file\n",
        "df = pd.read_csv(\"/content/UserFitnessStats.csv\")\n",
        "\n",
        "# Separate the input features (X) and target variable (y)\n",
        "X = df.drop(\"Activities Completed\", axis=1)\n",
        "y = df[\"Activities Completed\"]\n",
        "\n",
        "# Define the preprocessing steps for categorical and numerical features\n",
        "categorical_features = [\"Fitness Goals\"]\n",
        "numerical_features = [\"BMI\", \"Height\"]\n",
        "\n",
        "categorical_transformer = Pipeline(steps=[\n",
        "    ('onehot', OneHotEncoder(handle_unknown='ignore'))\n",
        "])\n",
        "\n",
        "numerical_transformer = Pipeline(steps=[\n",
        "    ('scaler', StandardScaler())\n",
        "])\n",
        "\n",
        "preprocessor = ColumnTransformer(transformers=[\n",
        "    ('cat', categorical_transformer, categorical_features),\n",
        "    ('num', numerical_transformer, numerical_features)\n",
        "])\n",
        "\n",
        "# Create an instance of the Random Forest classifier with preprocessor\n",
        "clf = Pipeline(steps=[\n",
        "    ('preprocessor', preprocessor),\n",
        "    ('classifier', RandomForestClassifier())\n",
        "])\n",
        "\n",
        "# Fit the classifier to the data\n",
        "clf.fit(X, y)\n",
        "\n",
        "# Predict the recommended activities for new data\n",
        "new_data = pd.DataFrame({\"BMI\": [25.0], \"Height\": [170], \"Fitness Goals\": [\"Weight loss\"]})\n",
        "recommended_activities = clf.predict(new_data)\n",
        "print(\"Recommended Activities:\", recommended_activities)"
      ],
      "metadata": {
        "id": "Qd_hsH8KngIT",
        "colab": {
          "base_uri": "https://localhost:8080/"
        },
        "outputId": "e9baac01-152e-45af-b102-fdd023a68854"
      },
      "execution_count": 2,
      "outputs": [
        {
          "output_type": "stream",
          "name": "stdout",
          "text": [
            "Recommended Activities: ['Yoga']\n"
          ]
        }
      ]
    }
  ]
}